{
 "cells": [
  {
   "cell_type": "markdown",
   "metadata": {},
   "source": [
    "# Optimisation bayésienne d'un simulateur coûteux\n",
    "\n",
    "\n",
    "Le but du TP est d'optimiser une fonction coûteuse de type \"boîte noire\" en utilisant une technique d'optimisation bayésienne. On considère ici un simulateur jouet correspondant à la modélisation d'une catapulte.\n",
    "Dans cet exemple, il y a 4 variables d'entrée et 1 sortie correspondant à la distance du point d'impact du projectile. On veut trouver la (ou les) valeur(s) du (des) variable(s) d'entrée correspondant à la distance maximale. A noter que le temps de calcul est immédiat, mais on considérera, à titre pédagogique, que le budget de calcul est limité à seulement 36 simulations, réparties en 16 points initiaux + 20 points supplémentaires."
   ]
  },
  {
   "cell_type": "markdown",
   "metadata": {},
   "source": [
    "1. Optimisation à la main\n",
    "On donne ici une application shiny (auteur Nicolas Durrande), qui permet de visualiser les simulations de façon interactive."
   ]
  },
  {
   "cell_type": "code",
   "execution_count": 3,
   "metadata": {},
   "outputs": [
    {
     "name": "stderr",
     "output_type": "stream",
     "text": [
      "\n",
      "Listening on http://127.0.0.1:5506\n"
     ]
    }
   ],
   "source": [
    "library(shiny)\n",
    "runApp()"
   ]
  },
  {
   "cell_type": "markdown",
   "metadata": {},
   "source": [
    "Question: En jouant manuellement sur les réglages des 4 variables d'entrée, proposer un réglage optimal (permettant de maximiser la distance)."
   ]
  },
  {
   "cell_type": "markdown",
   "metadata": {},
   "source": [
    "Pour poursuivre la lecture du notebook, il faut interrompre le noyau (bouton carré !) et charger les fonctions utiles "
   ]
  },
  {
   "cell_type": "code",
   "execution_count": 4,
   "metadata": {},
   "outputs": [
    {
     "name": "stdout",
     "output_type": "stream",
     "text": [
      "[1] 4\n"
     ]
    }
   ],
   "source": [
    "source(\"catapultSettings.R\")\n",
    "source(\"catapultFunctions.R\")"
   ]
  },
  {
   "cell_type": "markdown",
   "metadata": {},
   "source": [
    "2. Commençons par créer un plan d'expériences initial et calculons les valeurs correspondantes."
   ]
  },
  {
   "cell_type": "code",
   "execution_count": null,
   "metadata": {},
   "outputs": [],
   "source": [
    "library(DiceDesign)\n",
    "X0 <- lhsDesign(n = 16, dimension = 4)$design\n",
    "Xopt <- maximinESE_LHS(X0, it=10)\n",
    "## you may be interested in the convergence\n",
    "#plot(Xopt$critValues,type=\"l\")\n",
    "X <- Xopt$design\n",
    "colnames(X) <- c(\"axe\", \"butee\", \"ressort1\", \"ressort2\")\n",
    "pairs(X)\n",
    "## compute the output values\n",
    "Y <- apply(X, 1, runExperiment)[1, ]"
   ]
  },
  {
   "cell_type": "markdown",
   "metadata": {},
   "source": [
    "Question : Observer que le plan est de type \"space-filling\" (i.e. remplit l'espace). <br> Pourquoi l'a t-on choisi de cette forme ? Quel est le maximum courant ? Est-il éloigné du maximum calculé à la main ?"
   ]
  },
  {
   "cell_type": "markdown",
   "metadata": {},
   "source": [
    "3. Statistiques descriptives. Voit-on une relation simple entre entrées et sortie ? Quelle intuition peut-on avoir sur la région où se trouve l'optimum ?"
   ]
  },
  {
   "cell_type": "code",
   "execution_count": null,
   "metadata": {},
   "outputs": [],
   "source": [
    "pairs(cbind(Y, X))"
   ]
  },
  {
   "cell_type": "markdown",
   "metadata": {},
   "source": [
    "4. Métamodèle de régression. Tentons un modèle linéaire.\n",
    "Question : Quel optimum est suggéré par le (les) modèle(s) obtenu(s) ? Que vaut la distance en ce point ? Cela confirme t-il les observations précédentes ?"
   ]
  },
  {
   "cell_type": "code",
   "execution_count": null,
   "metadata": {},
   "outputs": [],
   "source": [
    "myData <- data.frame(X, Y = Y)\n",
    "m <- lm(Y ~ ., data = myData)\n",
    "summary(m)\n",
    "m2 <- lm(Y~. + I(axe^2) + I (butee^2) + I (ressort1^2) + I(ressort2^2), data = myData)\n",
    "summary(m2)\n",
    "mstep <- step(object = m, scope = m2, direction = \"both\", k = log(length(Y)))\n",
    "summary(mstep)"
   ]
  },
  {
   "cell_type": "markdown",
   "metadata": {},
   "source": [
    "5. Maintenant, utilisons la méthode EGO (optimisation bayésienne)\n",
    "Question : rappeler ses principes."
   ]
  },
  {
   "cell_type": "code",
   "execution_count": null,
   "metadata": {},
   "outputs": [],
   "source": [
    "library(DiceKriging)\n",
    "m0 <- km(~1, design=X, response=Y)\n",
    "print(m0)   # display model\n",
    "plot(m0)    # visual model validation"
   ]
  },
  {
   "cell_type": "markdown",
   "metadata": {},
   "source": [
    "Question : Que dire de la qualité de ce premier modèle ? Commenter la valeur estimée des paramètres de portée. Est-ce cohérent avec les résultats du modèle de régression ?"
   ]
  },
  {
   "cell_type": "code",
   "execution_count": null,
   "metadata": {},
   "outputs": [],
   "source": [
    "library(DiceOptim)\n",
    "\n",
    "## N.B. Il faut d'abord transformer le problème d'optimisation en minimisation \n",
    "runExperimentMin <- function(x) {\n",
    "    - apply(trajectory(x), 2, max)[1]\n",
    "    }\n",
    "Y <- apply(X, 1, runExperimentMin)\n",
    "m0 <- km(~1, design = X, response = Y)\n",
    "\n",
    "## 1 step ##\n",
    "oEGO <- max_EI(model = m0, lower = rep(0, 4), upper = rep(1, 4))\n",
    "newX <- oEGO$par\n",
    "newy <- runExperimentMin(newX)\n",
    "\n",
    "cat(\"Expected improvement was :\", round(oEGO$value,2),\n",
    "    \"\\nActual improvement is:\", round(min(Y) - newy,2),\n",
    "    \"\\n   (>0 means the new point is better, <0 means its worst)\")"
   ]
  },
  {
   "cell_type": "code",
   "execution_count": null,
   "metadata": {},
   "outputs": [],
   "source": [
    "# On peut ensuite mettre à jour du modèle\n",
    "m1 <- update(m0, newX, newy)\n",
    "# et recommencer : \n",
    "## Step 2 ##\n",
    "oEGO <- max_EI(model = m1, lower = rep(0, 4), upper = rep(1, 4))\n",
    "newX <- oEGO$par\n",
    "newy <- runExperimentMin(newX)\n",
    "\n",
    "cat(\"Expected improvement was :\", round(oEGO$value,2),\n",
    "    \"\\nActual improvement is:\", round(min(Y) - newy,2),\n",
    "    \"\\n   (>0 means the new point is better, <0 means its worst)\")"
   ]
  },
  {
   "cell_type": "code",
   "execution_count": null,
   "metadata": {},
   "outputs": [],
   "source": [
    "# Heureusement, on peut faire tout automatiquement\n",
    "oEGO <- EGO.nsteps(model = m0, fun = runExperimentMin, nsteps = 20, \n",
    "                   lower = rep(0, 4), upper = rep(1, 4))\n",
    "\n",
    "bestPoint <- which.min(oEGO$value)\n",
    "cat(\"longest shot observed:\",-round(oEGO$value[bestPoint],2),\n",
    "    \"\\ncorresponding input values:\",round(oEGO$par[bestPoint,],2))\n"
   ]
  },
  {
   "cell_type": "markdown",
   "metadata": {},
   "source": [
    "Visualisons les 20 points calculés successivement par la méthode EGO, dans le plan (X, Y), et en fonction du temps."
   ]
  },
  {
   "cell_type": "code",
   "execution_count": null,
   "metadata": {},
   "outputs": [],
   "source": [
    "visualizeEGO <- function(initDesign, initValues, EGOpoints, EGOvalues){\n",
    "  bestIndex <- which.min(EGOvalues)\n",
    "  y <- c(initValues, EGOvalues, EGOvalues[bestIndex])\n",
    "  X <- rbind(initDesign, EGOpoints, EGOpoints[bestIndex, ])\n",
    "  ninit <- nrow(initDesign)\n",
    "  nsteps <- nrow(EGOpoints)\n",
    "  pairs(cbind(y, X), \n",
    "        col = c(rep(\"black\", ninit), rep(\"blue\", nsteps), \"red\"),\n",
    "        pch = c(rep(1, ninit + nsteps), 19))\n",
    "}\n",
    "\n",
    "visualizeEGO(initDesign = X, initValues = Y,\n",
    "             EGOpoints = oEGO$par, EGOvalues = oEGO$val)"
   ]
  },
  {
   "cell_type": "code",
   "execution_count": null,
   "metadata": {},
   "outputs": [],
   "source": [
    "plot(c(Y, oEGO$value), main=\"convergence\", \n",
    "     xlab=\"evaluation number\", ylab=\"Y values\")\n",
    "lines(rep(length(Y), 2), range(Y, oEGO$value), lty = 2, col = \"gray\")\n",
    "lines(length(Y) + 0:length(oEGO$value), c(min(Y), cummin(oEGO$value)), col=\"red\", lwd=2)"
   ]
  },
  {
   "cell_type": "markdown",
   "metadata": {},
   "source": [
    " Questions : \n",
    " a) Pourquoi la méthode EGO serait beaucoup moins efficace (voire inefficace !) si on utilisait un métamodèle de régression à la place d'un processus gaussien ? \n",
    " b) Adapter le code précédent de façon à fournir des batchs de 2 points à chaque itération (utile pour le calcul parallèle), à l'aide de la fonction qEGO.nsteps"
   ]
  },
  {
   "cell_type": "markdown",
   "metadata": {},
   "source": [
    "Bonus : Comme la fonction est rapide à optimiser, on peut comparer avec le résultat d'un optimiseur standard (à choisir). On pourra utiliser la fonction suivante, qui évite la représentation graphique"
   ]
  },
  {
   "cell_type": "code",
   "execution_count": null,
   "metadata": {},
   "outputs": [],
   "source": [
    "myFun <- function(x) apply(trajectory(x), 2, max)[1]"
   ]
  }
 ],
 "metadata": {
  "celltoolbar": "Raw Cell Format",
  "kernelspec": {
   "display_name": "R",
   "language": "R",
   "name": "ir"
  },
  "language_info": {
   "codemirror_mode": "r",
   "file_extension": ".r",
   "mimetype": "text/x-r-source",
   "name": "R",
   "pygments_lexer": "r",
   "version": "3.4.4"
  }
 },
 "nbformat": 4,
 "nbformat_minor": 2
}
